{
  "nbformat": 4,
  "nbformat_minor": 0,
  "metadata": {
    "colab": {
      "name": "Copy of segmentation_pytorch.ipynb",
      "provenance": [],
      "collapsed_sections": [],
      "machine_shape": "hm",
      "include_colab_link": true
    },
    "kernelspec": {
      "name": "python3",
      "display_name": "Python 3"
    },
    "accelerator": "GPU"
  },
  "cells": [
    {
      "cell_type": "markdown",
      "metadata": {
        "id": "view-in-github",
        "colab_type": "text"
      },
      "source": [
        "<a href=\"https://colab.research.google.com/github/b4rthm/lhcb/blob/master/segmentation_pytorch.ipynb\" target=\"_parent\"><img src=\"https://colab.research.google.com/assets/colab-badge.svg\" alt=\"Open In Colab\"/></a>"
      ]
    },
    {
      "cell_type": "code",
      "metadata": {
        "id": "2btRPtS5fQ0s",
        "colab_type": "code",
        "outputId": "6fb46d52-0f51-4a18-9b81-9929e6608716",
        "colab": {
          "base_uri": "https://localhost:8080/",
          "height": 69
        }
      },
      "source": [
        "from google.colab import drive\n",
        "drive.mount(\"/content/gdrive\")\n",
        "drive_path = \"/content/gdrive/My Drive/\"\n",
        "\n",
        "!ls \"/content/gdrive/My Drive\"\n",
        "#!ls \"/content/gdrive/My Drive/data/Unreal\"\n",
        "#!ls \"/content/gdrive/My Drive/Colab Notebooks\""
      ],
      "execution_count": 1,
      "outputs": [
        {
          "output_type": "stream",
          "text": [
            "Drive already mounted at /content/gdrive; to attempt to forcibly remount, call drive.mount(\"/content/gdrive\", force_remount=True).\n",
            "'Colab Notebooks'  'Getting started.pdf'   model_state_dict.pt\n",
            " data\t\t   'Maschinelles Lernen'\n"
          ],
          "name": "stdout"
        }
      ]
    },
    {
      "cell_type": "code",
      "metadata": {
        "id": "k-hmScyRjl73",
        "colab_type": "code",
        "outputId": "bd332f82-a8f2-41cd-a3b5-0e037d6dcc0a",
        "colab": {
          "base_uri": "https://localhost:8080/",
          "height": 34
        }
      },
      "source": [
        "import os\n",
        "import random\n",
        "from skimage import io, transform\n",
        "import torch\n",
        "import torch.nn as nn\n",
        "import torch.nn.functional as F\n",
        "from torch.utils.data import Dataset, DataLoader, Subset\n",
        "import torchvision\n",
        "import torchvision.transforms as T\n",
        "from torchvision.utils import save_image\n",
        "import numpy as np\n",
        "import matplotlib.pyplot as plt\n",
        "\n",
        "print('CUDA is available:', torch.cuda.is_available())"
      ],
      "execution_count": 53,
      "outputs": [
        {
          "output_type": "stream",
          "text": [
            "CUDA is available: True\n"
          ],
          "name": "stdout"
        }
      ]
    },
    {
      "cell_type": "markdown",
      "metadata": {
        "id": "I1gZs4CodFC8",
        "colab_type": "text"
      },
      "source": [
        "**Dataset**"
      ]
    },
    {
      "cell_type": "code",
      "metadata": {
        "id": "BzlLyokEgJP-",
        "colab_type": "code",
        "colab": {}
      },
      "source": [
        "# Unreal Dataset\n",
        "\n",
        "device = 'cuda' if torch.cuda.is_available() else 'cpu'\n",
        "validate = False  # to set Hyperparameter\n",
        "val_percentage = 0.1\n",
        "\n",
        "current_epoch = 0\n",
        "epochs = 100\n",
        "lr = 0.001\n",
        "\n",
        "img_size = 128\n",
        "num_classes = 6  # 0: background 1:ball 2:crossing 3:goalpost 4:FieldRobot 2:fieldmarkings  \n",
        "weight = torch.ones(num_classes).to(device)\n",
        "# weight[0] = 0\n",
        "weight = weight.float()\n",
        "\n",
        "dataset_root = drive_path + 'data/Unreal/'\n",
        "\n",
        "\n",
        "class ToTensor(object):\n",
        "    def __call__(self, sample):\n",
        "        img, mask = sample['img'], sample['mask']\n",
        "        # swap color axis because\n",
        "        # numpy image: H x W x C\n",
        "        # torch image: C X H X W\n",
        "        img = img.transpose((2, 0, 1))\n",
        "        return {'img': torch.from_numpy(img).float(), 'mask': torch.from_numpy(mask).unsqueeze(0)}\n",
        "\n",
        "class Relabel(object):\n",
        "    def __call__(self, sample):\n",
        "        mask = sample['mask']\n",
        "        labels = np.unique(mask)\n",
        "        \n",
        "         # background is labeled as 0\n",
        "        robots = [2,3,4,5,6,7,8,9,10]\n",
        "        penalty = [27,28]\n",
        "        circle = [11,12,29,47]\n",
        "        goal = [56,57,58,59]\n",
        "\n",
        "        for label in labels:\n",
        "          if label != 0 and label != 1:  \n",
        "            # ball is labeled as 1 already\n",
        "            if label in robots: mask[mask == label] = 2\n",
        "            elif label in goal: mask[mask == label] = 3\n",
        "            elif label in penalty: mask[mask == label] = 4\n",
        "            elif label in circle: mask[mask == label] = 5\n",
        "            else: mask[mask == label] = 5\n",
        "        return {'img': sample['img'], 'mask': sample['mask']}\n",
        "\n",
        "class Rescale(object):\n",
        "    def __init__(self, output_size):\n",
        "        assert isinstance(output_size, (int, tuple))\n",
        "        self.output_size = output_size\n",
        "\n",
        "    def __call__(self, sample):\n",
        "        img, mask = sample['img'], sample['mask']\n",
        "\n",
        "        # h, w = img.shape[:2] # numpy\n",
        "        h, w = img.shape[1:3] # torch\n",
        "        if isinstance(self.output_size, int):\n",
        "            if h > w:\n",
        "                new_h, new_w = self.output_size * h / w, self.output_size\n",
        "            else:\n",
        "                new_h, new_w = self.output_size, self.output_size * w / h\n",
        "        else:\n",
        "            new_h, new_w = self.output_size\n",
        "        new_h, new_w = int(new_h), int(new_w)\n",
        "\n",
        "        img = F.interpolate(img.float().unsqueeze(0), (new_h, new_w)).squeeze(0)\n",
        "        mask = F.interpolate(mask.float().unsqueeze(0), (new_h, new_w)).squeeze(0)\n",
        "        return {'img': img, 'mask': mask.long()}\n",
        "\n",
        "\n",
        "class RandomFlip(object):\n",
        "    def __init__(self, prob):\n",
        "        self.prob = prob\n",
        "\n",
        "    def __call__(self,sample):\n",
        "        img, mask = sample['img'], sample['mask']\n",
        "\n",
        "        if random.random() < self.prob:\n",
        "            img = torch.flip(img, [2])\n",
        "            mask = torch.flip(mask, [2])\n",
        "        return {'img': img, 'mask': mask}\n",
        "\n",
        "\n",
        "class RandomCrop(object):\n",
        "    def __init__(self, output_size):\n",
        "        assert isinstance(output_size, (int, tuple))\n",
        "        if isinstance(output_size, int):\n",
        "            self.output_size = (output_size, output_size)\n",
        "        else:\n",
        "            assert len(output_size) == 2\n",
        "            self.output_size = output_size\n",
        "\n",
        "    def __call__(self, sample):\n",
        "        img, mask = sample['img'], sample['mask']\n",
        "\n",
        "        h, w = img.shape[1:3]\n",
        "        new_h, new_w = self.output_size\n",
        "\n",
        "        if new_h == h: \n",
        "            top = 0\n",
        "        else:\n",
        "            top = np.random.randint(0, h - new_h)\n",
        "        \n",
        "        if new_w == w:\n",
        "            left = 0\n",
        "        else:\n",
        "            left = np.random.randint(0, w - new_w)\n",
        "\n",
        "        img = img[:,top: top + new_h, left: left + new_w]\n",
        "        mask = mask[:,top: top + new_h, left: left + new_w]\n",
        "        return {'img': img, 'mask': mask}\n",
        "\n",
        "\n",
        "class UnrealDataset(Dataset):\n",
        "    def __init__(self, mask_dir, img_dir, transform=None):\n",
        "        self.mask_dir = mask_dir\n",
        "        self.img_dir = img_dir\n",
        "        self.transform = transform\n",
        "\n",
        "    def __len__(self):\n",
        "        return 1000\n",
        "\n",
        "    def __getitem__(self, idx):\n",
        "        img_name = 'ScreenShot'\n",
        "        if idx < 10: img_name += '0000' \n",
        "        elif idx < 100: img_name += '000'\n",
        "        elif idx < 1000: img_name += '00'\n",
        "        elif idx < 10000: img_name += '0'\n",
        "        \n",
        "        img_name += str(idx) + '.png'\n",
        "        img_path = os.path.join(self.img_dir, img_name)\n",
        "        img = io.imread(img_path)[:,:,:3]  # removing alpha channel\n",
        "\n",
        "        mask_name = 'mask' + str(idx) + '.txt'\n",
        "        mask_path = os.path.join(self.mask_dir, mask_name) \n",
        "        mask = np.loadtxt(fname = mask_path)\n",
        "\n",
        "        sample = {'img': img, 'mask': mask}\n",
        "        if self.transform:\n",
        "            sample = self.transform(sample)\n",
        "        return sample['img'], sample['mask']\n",
        "\n",
        "\n",
        "transforms = T.Compose([\n",
        "                        ToTensor(),\n",
        "                        Relabel(),\n",
        "                        Rescale((140,140)),\n",
        "                        RandomFlip(0.5),\n",
        "                        RandomCrop((128,128)),\n",
        "                        ])\n",
        "\n",
        "dataset = UnrealDataset(dataset_root + 'ScreenshotMasks/', dataset_root + 'Screenshots/', transforms)\n",
        "\n",
        "train_dataset = Subset(dataset, range(0,800))\n",
        "test_dataset = Subset(dataset, range(800,1000))\n",
        "\n",
        "val_dataset = Subset(train_dataset, range(0, len(train_dataset), int( 1 / val_percentage))) # sample with step_size = (1 / val_percentage)\n",
        "small_test_dataset = Subset(test_dataset, range(0, len(test_dataset), int( 1 / val_percentage)))\n",
        "\n",
        "def show_image_tensor(img):\n",
        "    img = img.long()\n",
        "    plt.imshow(img.transpose(0,2).transpose(0,1)); plt.show()\n",
        "\n",
        "def show_mask_tensor(mask):\n",
        "    plt.imshow(mask[0]); plt.show()"
      ],
      "execution_count": 0,
      "outputs": []
    },
    {
      "cell_type": "markdown",
      "metadata": {
        "id": "X5-GzPOnfcfU",
        "colab_type": "text"
      },
      "source": [
        "**Dataset Demo**"
      ]
    },
    {
      "cell_type": "code",
      "metadata": {
        "id": "czAm0JvmfKFs",
        "colab_type": "code",
        "outputId": "3d9532cd-1e8f-435d-8d5f-b60093b0f5b9",
        "colab": {
          "base_uri": "https://localhost:8080/",
          "height": 571
        }
      },
      "source": [
        "img, mask = dataset[16]\n",
        "print('Image Shape', img.shape)\n",
        "print('Mask Shape', mask.shape)\n",
        "print('Containing Labels:', np.unique(mask))\n",
        "\n",
        "show_image_tensor(img)\n",
        "show_mask_tensor(mask)"
      ],
      "execution_count": 54,
      "outputs": [
        {
          "output_type": "stream",
          "text": [
            "Image Shape torch.Size([3, 128, 128])\n",
            "Mask Shape torch.Size([1, 128, 128])\n",
            "Containing Labels: [0 2 3 5]\n"
          ],
          "name": "stdout"
        },
        {
          "output_type": "display_data",
          "data": {
            "image/png": "[encoded data removed]",
            "text/plain": [
              "<Figure size 432x288 with 1 Axes>"
            ]
          },
          "metadata": {
            "tags": []
          }
        },
        {
          "output_type": "display_data",
          "data": {
            "image/png": "[encoded data removed]",
            "text/plain": [
              "<Figure size 432x288 with 1 Axes>"
            ]
          },
          "metadata": {
            "tags": []
          }
        }
      ]
    },
    {
      "cell_type": "markdown",
      "metadata": {
        "id": "lWqSTpKPcqYz",
        "colab_type": "text"
      },
      "source": [
        "**Data Loader**\n",
        "\n",
        "\n"
      ]
    },
    {
      "cell_type": "code",
      "metadata": {
        "id": "9k9NL8EKj08B",
        "colab_type": "code",
        "colab": {}
      },
      "source": [
        "batch_size = 64\n",
        "train_loader = DataLoader(train_dataset, batch_size, shuffle=True, num_workers=6)\n",
        "test_loader = DataLoader(test_dataset, batch_size, shuffle=True, num_workers=6) # shuffle=True necessary for show_segmentation\n",
        "\n",
        "if validate:\n",
        "    train_loader = DataLoader(val_dataset, batch_size, shuffle=True, num_workers=6)\n",
        "    test_loader = DataLoader(small_test_dataset, batch_size, shuffle=True, num_workers=6)"
      ],
      "execution_count": 0,
      "outputs": []
    },
    {
      "cell_type": "markdown",
      "metadata": {
        "id": "yQPCgvjpgYz_",
        "colab_type": "text"
      },
      "source": [
        "**Model**"
      ]
    },
    {
      "cell_type": "code",
      "metadata": {
        "id": "sAqeFOZUmApP",
        "colab_type": "code",
        "colab": {}
      },
      "source": [
        "class Conv3x3(nn.Module):\n",
        "    \"\"\" Conv => BN => ReLU \"\"\"\n",
        "\n",
        "    def __init__(self, in_channels, out_channels):\n",
        "        super().__init__()\n",
        "        self.conv3x3 = nn.Sequential(\n",
        "            nn.Conv2d(in_channels, out_channels, kernel_size=3, padding=1),\n",
        "            nn.BatchNorm2d(out_channels),\n",
        "            nn.ReLU(inplace=True),\n",
        "        )\n",
        "    def forward(self, x):\n",
        "        return self.conv3x3(x)\n",
        "\n",
        "\n",
        "class Down(nn.Module):\n",
        "    \"\"\" Downscaling with maxpool/conv then conv \"\"\"\n",
        "\n",
        "    def __init__(self, in_channels, out_channels, pooling=True):\n",
        "        super().__init__()\n",
        "        if pooling:\n",
        "            self.down = nn.Sequential(\n",
        "                nn.MaxPool2d(2),\n",
        "                Conv3x3(in_channels, out_channels)\n",
        "            )\n",
        "        else:\n",
        "            self.down = nn.Sequential(\n",
        "                nn.Conv2d(in_channels, out_channels, kernel_size=4, stride=2, padding=1),\n",
        "                Conv3x3(out_channels, out_channels)    \n",
        "            )\n",
        "    def forward(self, x):\n",
        "        return self.down(x)\n",
        "\n",
        "\n",
        "class Up(nn.Module):\n",
        "    \"\"\" Upscaling then conv \"\"\"\n",
        "\n",
        "    def __init__(self, in_channels, out_channels,  bilinear=True):\n",
        "        super().__init__()\n",
        "        if bilinear:\n",
        "            self.up = nn.Upsample(scale_factor=2, mode='bilinear', align_corners=True)\n",
        "        else:\n",
        "            self.up = nn.ConvTranspose2d(in_channels, out_channels, kernel_size=2, stride=2)\n",
        "\n",
        "        self.conv = Conv3x3(in_channels + out_channels, out_channels)\n",
        "\n",
        "    def forward(self, x1, x2):\n",
        "        x1 = self.up(x1)\n",
        "        # print(x1.shape, x2.shape)\n",
        "        x = torch.cat([x2, x1], dim=1)\n",
        "        x = self.conv(x)\n",
        "        return x\n",
        "\n",
        "\n",
        "class OutConv(nn.Module):\n",
        "    def __init__(self, in_channels, out_channels):\n",
        "        super(OutConv, self).__init__()\n",
        "        self.conv = nn.Conv2d(in_channels, out_channels, kernel_size=1)\n",
        "    def forward(self, x):\n",
        "        return self.conv(x)\n",
        "\n",
        "\n",
        "class UNet(nn.Module):\n",
        "    def __init__(self, channels, n_classes, pooling=True, bilinear=True):\n",
        "        super(UNet, self).__init__()\n",
        "\n",
        "        self.inc = Conv3x3(channels[0], channels[1])\n",
        "        self.down1 = Down(channels[1], channels[2] ,pooling)\n",
        "        self.down2 = Down(channels[2], channels[3] ,pooling)\n",
        "        self.down3 = Down(channels[3], channels[4] ,pooling)\n",
        "        self.down4 = Down(channels[4], channels[5] ,pooling)\n",
        "        self.up1 = Up(channels[5], channels[4],  bilinear)\n",
        "        self.up2 = Up(channels[4], channels[3], bilinear)\n",
        "        self.up3 = Up(channels[3], channels[2], bilinear)\n",
        "        self.up4 = Up(channels[2], channels[1], bilinear)\n",
        "        self.outc = OutConv(channels[1], n_classes)\n",
        "\n",
        "    def forward(self, x):\n",
        "        x1 = self.inc(x)\n",
        "        x2 = self.down1(x1)\n",
        "        x3 = self.down2(x2)\n",
        "        x4 = self.down3(x3)\n",
        "        x5 = self.down4(x4)\n",
        "        x = self.up1(x5, x4)\n",
        "        x = self.up2(x, x3)\n",
        "        x = self.up3(x, x2)\n",
        "        x = self.up4(x, x1)\n",
        "        logits = self.outc(x)\n",
        "        return logits\n",
        "\n",
        "\n",
        "#channels = [3,32,48,64,80,96]\n",
        "#channels = [3,16,32,48,64,80]\n",
        "channels = [3,16,24,32,40,48]\n",
        "\n",
        "\n",
        "model = UNet(channels, num_classes).to(device)\n",
        "model = model.float()\n",
        "optimizer = torch.optim.Adam(model.parameters(), lr=lr)"
      ],
      "execution_count": 0,
      "outputs": []
    },
    {
      "cell_type": "markdown",
      "metadata": {
        "id": "xCivAgY-AA5E",
        "colab_type": "text"
      },
      "source": [
        "**Inference Time**"
      ]
    },
    {
      "cell_type": "code",
      "metadata": {
        "id": "Tv7xNA0fAAK6",
        "colab_type": "code",
        "outputId": "9b9e338e-7aa8-4033-833f-13fd6943730b",
        "colab": {
          "base_uri": "https://localhost:8080/",
          "height": 52
        }
      },
      "source": [
        "data_iter = iter(test_dataset)\n",
        "data_sample = next(data_iter)\n",
        "\n",
        "%time model.cpu()(data_sample[0].unsqueeze(0))\n",
        "\n",
        "model = model.to(device)\n"
      ],
      "execution_count": 59,
      "outputs": [
        {
          "output_type": "stream",
          "text": [
            "CPU times: user 38.8 ms, sys: 177 µs, total: 39 ms\n",
            "Wall time: 21.4 ms\n"
          ],
          "name": "stdout"
        }
      ]
    },
    {
      "cell_type": "code",
      "metadata": {
        "id": "fue_WBrFyqB0",
        "colab_type": "code",
        "colab": {}
      },
      "source": [
        "def train(loader):\n",
        "    model.train()\n",
        "    total_loss = 0\n",
        "    i = 0\n",
        "    for data, label in loader:\n",
        "        data = data.to(device)\n",
        "        label = label.to(device)\n",
        "        optimizer.zero_grad()\n",
        "        pred = model(data)\n",
        "        loss = criterion(pred, label[:, 0], weight)  # Calculate Loss (batchwise mean)\n",
        "        loss.backward()\n",
        "        optimizer.step()\n",
        "        total_loss += loss.item() * data.size(0)\n",
        "        i += 1\n",
        "        if i % 10 == 0:\n",
        "            print(i * batch_size, '/', len(loader.dataset))\n",
        "    return total_loss / len(loader.dataset)\n",
        "\n",
        "\n",
        "def test(loader):\n",
        "    model.eval()\n",
        "    total_loss = 0\n",
        "    with torch.no_grad():\n",
        "        for data, label in loader:\n",
        "            data = data.to(device)\n",
        "            label = label.to(device)\n",
        "            pred = model(data)\n",
        "            loss = criterion(pred, label[:, 0], weight)\n",
        "            total_loss += loss.item() * data.size(0)\n",
        "    return total_loss / len(loader.dataset)\n",
        "\n",
        "\n",
        "def criterion(pred, label, weight):\n",
        "    return F.cross_entropy(pred, label, weight)\n",
        "\n",
        "\n",
        "def decode_segmap(img, nc=22):\n",
        "    label_colors = np.array([(0, 0, 0),  # 0=background\n",
        "                             # 1=aeroplane, 2=bicycle, 3=bird, 4=boat, 5=bottle\n",
        "                             (128, 0, 0), (0, 128, 0), (128, 128, 0), (0, 0, 128), (128, 0, 128),\n",
        "                             # 6=bus, 7=car, 8=cat, 9=chair, 10=cow\n",
        "                             (0, 128, 128), (128, 128, 128), (64, 0, 0), (192, 0, 0), (64, 128, 0),\n",
        "                             # 11=dining table, 12=dog, 13=horse, 14=motorbike, 15=person\n",
        "                             (192, 128, 0), (64, 0, 128), (192, 0, 128), (64, 128, 128), (192, 128, 128),\n",
        "                             # 16=potted plant, 17=sheep, 18=sofa, 19=train, 20=tv/monitor, 21=boarder\n",
        "                             (0, 64, 0), (128, 64, 0), (0, 192, 0), (128, 192, 0), (0, 64, 128), (255,255,255)])\n",
        "\n",
        "    r = np.zeros_like(img).astype(np.uint8)\n",
        "    g = np.zeros_like(img).astype(np.uint8)\n",
        "    b = np.zeros_like(img).astype(np.uint8)\n",
        "\n",
        "    for l in range(0, nc):\n",
        "        idx = img == l\n",
        "        r[idx] = label_colors[l, 0]\n",
        "        g[idx] = label_colors[l, 1]\n",
        "        b[idx] = label_colors[l, 2]\n",
        "\n",
        "    rgb = np.stack([r, g, b], axis=2)\n",
        "    return rgb\n",
        "\n",
        "\n",
        "def normalize_img(img):\n",
        "    img -= np.min(img)\n",
        "    img /= np.max(img)\n",
        "    return img\n",
        "    \n",
        "\n",
        "def show_segmetation(iterator, ammount = 1):\n",
        " model.eval()\n",
        " with torch.no_grad():\n",
        "    while ammount > 0:\n",
        "        data, label = next(iterator)\n",
        "        data = data.to(device)\n",
        "        #print(data.shape)\n",
        "        pred = model(data).cpu()\n",
        "        #print(pred.shape)\n",
        "        # for every image in batch, show segmentation\n",
        "        for i in range(pred.size(0)):\n",
        "            #print(pred[i].shape)\n",
        "            pred_i = torch.argmax(pred[i], dim=0).detach().numpy()\n",
        "            #print(pred_i.shape)\n",
        "            label_i = label[i].squeeze()\n",
        "            rgb_seg = decode_segmap(pred_i)\n",
        "            rgb_seg_label = decode_segmap(label_i)\n",
        "            data_i = data[i].permute(1, 2, 0).cpu().numpy()\n",
        "\n",
        "            f, axarr = plt.subplots(1,3)\n",
        "            f.set_dpi(150)\n",
        "\n",
        "            axarr[0].imshow(normalize_img(data_i))\n",
        "            axarr[1].imshow(rgb_seg_label)\n",
        "            axarr[2].imshow(rgb_seg)\n",
        "            plt.show()\n",
        "            \n",
        "            ammount -= 1\n",
        "            if ammount <= 0: break\n"
      ],
      "execution_count": 0,
      "outputs": []
    },
    {
      "cell_type": "markdown",
      "metadata": {
        "id": "q8HnGKK8gwJ1",
        "colab_type": "text"
      },
      "source": [
        "**Live Demo**"
      ]
    },
    {
      "cell_type": "code",
      "metadata": {
        "id": "52f15dQxfv1F",
        "colab_type": "code",
        "colab": {}
      },
      "source": [
        "print('\\nTrain Segmentation')\n",
        "show_segmetation(iter(train_loader), 1)\n",
        "\n",
        "print('\\nTest Segmentation')\n",
        "show_segmetation(iter(test_loader), 1)"
      ],
      "execution_count": 0,
      "outputs": []
    },
    {
      "cell_type": "markdown",
      "metadata": {
        "id": "BQ6YDLoIhl4_",
        "colab_type": "text"
      },
      "source": [
        "**Train Loop**"
      ]
    },
    {
      "cell_type": "code",
      "metadata": {
        "id": "Ap4vvRU8TdYD",
        "colab_type": "code",
        "outputId": "c8e5ab6c-2ce3-40da-8c31-82e1da759262",
        "colab": {
          "base_uri": "https://localhost:8080/",
          "height": 397
        }
      },
      "source": [
        "for epoch in range(100):\n",
        "        current_epoch += 1\n",
        "\n",
        "        train_loss = train(train_loader)\n",
        "        print('\\nEpoch', current_epoch, 'Train Loss:', train_loss)\n",
        "\n",
        "        test_loss = test(test_loader)\n",
        "        print('Epoch', current_epoch, 'Test Loss:', test_loss)\n",
        "\n",
        "        print('\\nTrain Segmentation')\n",
        "        show_segmetation(iter(train_loader), 1)\n",
        "\n",
        "        print('\\nTest Segmentation')\n",
        "        show_segmetation(iter(test_loader), 1)\n",
        "\n",
        "PATH_SAVE = drive_path +  'model_state_dict.pt'\n",
        "torch.save(model.state_dict(), PATH_SAVE)"
      ],
      "execution_count": 0,
      "outputs": [
        {
          "output_type": "stream",
          "text": [
            "640 / 800\n",
            "\n",
            "Epoch 1 Train Loss: 1.548694887161255\n",
            "Epoch 1 Test Loss: 1.425601930618286\n",
            "\n",
            "Train Segmentation\n"
          ],
          "name": "stdout"
        },
        {
          "output_type": "display_data",
          "data": {
            "image/png": "[encoded data removed]",
            "text/plain": [
              "<Figure size 900x600 with 3 Axes>"
            ]
          },
          "metadata": {
            "tags": []
          }
        }
      ]
    },
    {
      "cell_type": "markdown",
      "metadata": {
        "id": "cc-R4rn1hWjK",
        "colab_type": "text"
      },
      "source": [
        "**Test Image from URL**"
      ]
    },
    {
      "cell_type": "code",
      "metadata": {
        "id": "jr5Zhe2srm2T",
        "colab_type": "code",
        "colab": {}
      },
      "source": [
        "from PIL import Image\n",
        " \n",
        "!wget -nv https://1.bp.blogspot.com/-jahMvf_VQfo/WQ7uhhgzGII/AAAAAAAARVI/GU4tq4RQ4XMaOJPPQSm3oLlYRUAXWikfgCLcB/s1600/J19A9135.JPG -O naos.png\n",
        "img = Image.open('./naos.png')\n",
        "\n",
        "img = T.Resize((128,128))(img)\n",
        "\n",
        "plt.imshow(img); plt.show()\n",
        "\n",
        "img = T.ToTensor()(img)\n",
        "img = img.unsqueeze(0)\n",
        "img = img.to(device)\n",
        "\n",
        "pred = model(img)\n",
        "pred = torch.argmax(pred[0], dim=0).detach().cpu().numpy()\n",
        "pred = decode_segmap(pred)\n",
        "\n",
        "plt.imshow(pred); plt.show()"
      ],
      "execution_count": 0,
      "outputs": []
    },
    {
      "cell_type": "markdown",
      "metadata": {
        "id": "ojp7lAO27ed3",
        "colab_type": "text"
      },
      "source": [
        "**Save Model**"
      ]
    },
    {
      "cell_type": "code",
      "metadata": {
        "id": "QbWsp25M7dWQ",
        "colab_type": "code",
        "colab": {}
      },
      "source": [
        "PATH_SAVE = drive_path +  'model_state_dict.pt'\n",
        "torch.save(model.state_dict(), PATH_SAVE)"
      ],
      "execution_count": 0,
      "outputs": []
    },
    {
      "cell_type": "markdown",
      "metadata": {
        "id": "yR7WBK8VMhjT",
        "colab_type": "text"
      },
      "source": [
        "**Load Model**"
      ]
    },
    {
      "cell_type": "code",
      "metadata": {
        "id": "fgmBgqCiMkQB",
        "colab_type": "code",
        "colab": {}
      },
      "source": [
        "PATH_LOAD = drive_path + 'model_state_dict.pt'\n",
        "model = UNet(3, num_classes).to(device)\n",
        "model.load_state_dict(torch.load(PATH_LOAD))"
      ],
      "execution_count": 0,
      "outputs": []
    },
    {
      "cell_type": "markdown",
      "metadata": {
        "id": "E1iKu4HUoJTt",
        "colab_type": "text"
      },
      "source": [
        "**Parameter Count**"
      ]
    },
    {
      "cell_type": "code",
      "metadata": {
        "id": "QhPvuDL3oGIa",
        "colab_type": "code",
        "colab": {
          "base_uri": "https://localhost:8080/",
          "height": 34
        },
        "outputId": "71ec9a12-74ad-476a-b8a7-12df16b1213e"
      },
      "source": [
        "def countNonZeroWeights(model):\n",
        "    non_zeros = 0\n",
        "    for param in model.parameters():\n",
        "        if param is not None:\n",
        "            non_zeros += torch.sum((param != 0))\n",
        "    return non_zeros\n",
        "\n",
        "print('Non Zero Parameters:',  countNonZeroWeights(model).item()) "
      ],
      "execution_count": 14,
      "outputs": [
        {
          "output_type": "stream",
          "text": [
            "Non Zero Parameters: 254774\n"
          ],
          "name": "stdout"
        }
      ]
    },
    {
      "cell_type": "markdown",
      "metadata": {
        "id": "g8O44V8ohuV8",
        "colab_type": "text"
      },
      "source": [
        "**Show Labels Seperately**"
      ]
    },
    {
      "cell_type": "code",
      "metadata": {
        "id": "r2_0gsoeZrZo",
        "colab_type": "code",
        "colab": {}
      },
      "source": [
        "img_idx = 17\n",
        "\n",
        "# 0 Hintergrund\n",
        "# 1 Ball\n",
        "# 2-10 Roboter\n",
        "# 27,28 Penalty Cross\n",
        "# 56,57,58,59 Torpfosten\n",
        "\n",
        "# 29 Mittelkreis\n",
        "# 11,12 Schnittpunkt Kreis, Mittellinie\n",
        "\n",
        "# 13,20 Schnittpunkt Seitenlinie, Mittellinie\n",
        "# 47 Mittellinie Innen\n",
        "# 30,35,36 Mittellinie Außen\n",
        "\n",
        "# 14,31,32,33,34,48,49,50,51,52,53,54,55 Linienstücke\n",
        "# 37,38 Linie Tor Außen\n",
        "# 41,42 Linie Torseite\n",
        "# 15,16,21,26 Eckpunkt\n",
        "# 19,22,25 Eckpunkt Strafraum\n",
        "# 17,18,23,24 Schnittpunkt Strafraum linie\n",
        "# 39,40 Strafraum mitte\n",
        "# 43,44,45,46 Strafraum links/rechts\n",
        "\n",
        "img, mask = dataset[img_idx]\n",
        "print('Image Shape', img.shape)\n",
        "print('Mask Shape', mask.shape)\n",
        "print('Containing Labels:', np.unique(mask))\n",
        "\n",
        "labels = range(1, torch.max(mask).int() + 1)\n",
        "    \n",
        "for i in labels:\n",
        "    if i not in np.unique(mask): continue\n",
        "    print('Mask Label', i)\n",
        "    for j in range(1, torch.max(mask).int() + 1):\n",
        "        if j != i:\n",
        "            mask[mask == j] = 0\n",
        "    show_image_tensor(img)\n",
        "    show_mask_tensor(mask)\n",
        "    mask = dataset[img_idx][1]"
      ],
      "execution_count": 0,
      "outputs": []
    },
    {
      "cell_type": "markdown",
      "metadata": {
        "id": "YzTqQIQIzwh1",
        "colab_type": "text"
      },
      "source": [
        "**Show Images with Mask**"
      ]
    },
    {
      "cell_type": "code",
      "metadata": {
        "id": "iJn7z3ZqzpTA",
        "colab_type": "code",
        "colab": {}
      },
      "source": [
        "a = 5\n",
        "f, axarr = plt.subplots(1,a)\n",
        "f.set_dpi(200)\n",
        "\n",
        "f2, axarr2 = plt.subplots(1,a)\n",
        "f2.set_dpi(200)\n",
        "\n",
        "b = 0\n",
        "count = 0\n",
        "for i in range(b,b+a):\n",
        "        img, mask = dataset[i]\n",
        "        img = img.long()\n",
        "        axarr[count].imshow(img.transpose(0,2).transpose(0,1))\n",
        "        axarr[count].axis('off')\n",
        "\n",
        "        axarr2[count].imshow(mask[0])\n",
        "        axarr2[count].axis('off')\n",
        "        count += 1\n",
        "plt.show()\n",
        "\n",
        "# Corrupt Images 4, 16, 26, 36, 64"
      ],
      "execution_count": 0,
      "outputs": []
    },
    {
      "cell_type": "markdown",
      "metadata": {
        "id": "NHbSeKpe8w__",
        "colab_type": "text"
      },
      "source": [
        "**Model Summary**"
      ]
    },
    {
      "cell_type": "code",
      "metadata": {
        "id": "Y50Y_7X_6wTO",
        "colab_type": "code",
        "colab": {}
      },
      "source": [
        "from torchsummary import summary\n",
        "summary(model, input_size=(3, 128, 128))"
      ],
      "execution_count": 0,
      "outputs": []
    }
  ]
}